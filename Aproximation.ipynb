{
 "cells": [
  {
   "cell_type": "markdown",
   "metadata": {},
   "source": [
    "## 31. Аппроксимация данных. Логистическая функция. \n",
    "[Weiner B. Discovering Psychology. 1977]\n",
    "\n",
    "В таблице представлены средние значения количества слов $y$, которыми владеет ребенок в заданном возрасте $x$.\n",
    "```\n",
    " 1.0        3\n",
    " 1.5       22\n",
    " 2.0      272\n",
    " 2.5      446\n",
    " 3.0      896\n",
    " 3.5     1222\n",
    " 4.0     1540\n",
    " 4.5     1870\n",
    " 5.0     2072\n",
    " 6.0     2562\n",
    "```\n",
    "Построить линейную $y = \\beta_0 + \\beta_1 x$ и две логистические модели: \n",
    "$$\n",
    "y = \\frac{\\beta_0}{1 + \\beta_1 e^{-\\beta_2 t}},\n",
    "\\qquad\n",
    "y = \\frac{\\beta_0}{1 + \\beta_1 e^{-\\beta_2 (t - t_0)}},\n",
    "$$\n",
    "аппроксимирующие данные.    \n",
    "Найти общую ошибку в каждом из этих случаев и сравнить результаты.  "
   ]
  },
  {
   "cell_type": "code",
   "execution_count": 1,
   "metadata": {},
   "outputs": [],
   "source": [
    "import numpy as np\n",
    "import matplotlib.pyplot as plt\n",
    "%matplotlib inline \n",
    "from scipy import linalg\n",
    "from scipy import optimize"
   ]
  },
  {
   "cell_type": "markdown",
   "metadata": {},
   "source": [
    "# Данные и построение графиков\n",
    "```\n",
    "x - возраст.\n",
    "y - среднее количество слов в зависимоти от возраста.\n",
    "```"
   ]
  },
  {
   "cell_type": "code",
   "execution_count": 2,
   "metadata": {},
   "outputs": [
    {
     "data": {
      "image/png": "[encoded data removed]",
      "text/plain": [
       "<Figure size 432x288 with 1 Axes>"
      ]
     },
     "metadata": {
      "needs_background": "light"
     },
     "output_type": "display_data"
    }
   ],
   "source": [
    "x = np.array([1.0,1.5,2.0,2.5,3.0,3.5,4.0,4.5,5.0,6.0])\n",
    "y = np.array([3,22,272,446,896,1222,1540,1870,2072,2562])\n",
    "m = len(x)\n",
    "plt.plot(x,y,'o',color = 'tab:red')\n",
    "pass"
   ]
  },
  {
   "cell_type": "markdown",
   "metadata": {},
   "source": [
    "Используемые функции:"
   ]
  },
  {
   "cell_type": "code",
   "execution_count": 3,
   "metadata": {},
   "outputs": [],
   "source": [
    "def funOne(t, b0,b1):\n",
    "    return b0 + t * b1"
   ]
  },
  {
   "cell_type": "code",
   "execution_count": 4,
   "metadata": {},
   "outputs": [],
   "source": [
    "def funTwo(t, b0,b1,b2):\n",
    "    return b0 / (1 + b1 * np.exp(-b2 * t))"
   ]
  },
  {
   "cell_type": "code",
   "execution_count": 5,
   "metadata": {},
   "outputs": [],
   "source": [
    "def funThree(t,t0,b0, b1,b2):\n",
    "    return b0 / (1 + b1 * np.exp(-b2 * (t - t0)))"
   ]
  },
  {
   "cell_type": "markdown",
   "metadata": {},
   "source": [
    "# Подбор значения параметров\n",
    "Первая модель является линейной, поэтому использую функцию polyfit()."
   ]
  },
  {
   "cell_type": "code",
   "execution_count": 6,
   "metadata": {},
   "outputs": [
    {
     "data": {
      "text/plain": [
       "(-763.8571428571419, 561.9264069264067)"
      ]
     },
     "execution_count": 6,
     "metadata": {},
     "output_type": "execute_result"
    }
   ],
   "source": [
    "A = np.polyfit(x, y, 1)\n",
    "A2, A1 = A\n",
    "A1, A2"
   ]
  },
  {
   "cell_type": "code",
   "execution_count": 7,
   "metadata": {
    "scrolled": true
   },
   "outputs": [
    {
     "data": {
      "image/png": "[encoded data removed]",
      "text/plain": [
       "<Figure size 432x288 with 1 Axes>"
      ]
     },
     "metadata": {
      "needs_background": "light"
     },
     "output_type": "display_data"
    }
   ],
   "source": [
    "t = np.linspace(np.min(x), np.max(x), 10)\n",
    "plt.plot(x,y,'ro')\n",
    "plt.plot(t, funOne(t,A1,A2), label='foo 1')\n",
    "plt.legend()\n",
    "plt.grid()\n",
    "pass"
   ]
  },
  {
   "cell_type": "markdown",
   "metadata": {},
   "source": [
    "## Нейлинейный метод наименьших квадратов\n",
    "Для второй и третьей модели я использую метод наименьших квадратов. Реализация есть в функции curve_fit модуля numpy.optimize."
   ]
  },
  {
   "cell_type": "code",
   "execution_count": 8,
   "metadata": {},
   "outputs": [
    {
     "data": {
      "text/plain": [
       "(2612.693117576391, 95.76932605651045, 1.2364085878085078)"
      ]
     },
     "execution_count": 8,
     "metadata": {},
     "output_type": "execute_result"
    }
   ],
   "source": [
    "S1 = [1,2,3]\n",
    "Param1, _ = optimize.curve_fit(funTwo, x, y, S1)\n",
    "B0, B1, B2 = Param1\n",
    "B0, B1, B2"
   ]
  },
  {
   "cell_type": "code",
   "execution_count": 9,
   "metadata": {},
   "outputs": [
    {
     "data": {
      "image/png": "[encoded data removed]",
      "text/plain": [
       "<Figure size 432x288 with 1 Axes>"
      ]
     },
     "metadata": {
      "needs_background": "light"
     },
     "output_type": "display_data"
    }
   ],
   "source": [
    "t = np.linspace(np.min(x), np.max(x), 10)\n",
    "plt.plot(x,y,'ro')\n",
    "plt.plot(t, funTwo(t, B0, B1, B2), label='foo 2')\n",
    "plt.legend()\n",
    "plt.grid()\n",
    "pass"
   ]
  },
  {
   "cell_type": "code",
   "execution_count": 10,
   "metadata": {},
   "outputs": [
    {
     "data": {
      "text/plain": [
       "(1.2856394374611508, 2612.692705797321, 19.538236709446767, 1.2364130098739303)"
      ]
     },
     "execution_count": 10,
     "metadata": {},
     "output_type": "execute_result"
    }
   ],
   "source": [
    "S2 = [1, 2, 1000, 0.000001]\n",
    "Param2, _ = optimize.curve_fit(funThree, x, y, S2, maxfev = 1000)\n",
    "y0, C0, C1, C2 = Param2\n",
    "y0, C0, C1, C2"
   ]
  },
  {
   "cell_type": "code",
   "execution_count": 11,
   "metadata": {},
   "outputs": [
    {
     "data": {
      "image/png": "[encoded data removed]",
      "text/plain": [
       "<Figure size 432x288 with 1 Axes>"
      ]
     },
     "metadata": {
      "needs_background": "light"
     },
     "output_type": "display_data"
    }
   ],
   "source": [
    "t = np.linspace(np.min(x), np.max(x), 10)\n",
    "plt.plot(x,y,'o')\n",
    "plt.plot(t, funThree(t,y0, C0,  C1, C2), label='foo 3')\n",
    "plt.legend()\n",
    "plt.grid()\n",
    "pass"
   ]
  },
  {
   "cell_type": "markdown",
   "metadata": {},
   "source": [
    "все три модели построим на одной координатой плоскости для сравнения"
   ]
  },
  {
   "cell_type": "code",
   "execution_count": 12,
   "metadata": {},
   "outputs": [
    {
     "data": {
      "image/png": "[encoded data removed]",
      "text/plain": [
       "<Figure size 432x288 with 1 Axes>"
      ]
     },
     "metadata": {
      "needs_background": "light"
     },
     "output_type": "display_data"
    }
   ],
   "source": [
    "t = np.linspace(np.min(x), np.max(x), 10)\n",
    "plt.plot(x,y,'o')\n",
    "plt.plot(t, funOne(t,A1,A2), label='foo 1')\n",
    "plt.plot(t, funTwo(t, B0, B1, B2), label='foo 2')\n",
    "plt.plot(t, funThree(t,y0, C0,  C1, C2), label='foo 3')\n",
    "plt.legend()\n",
    "plt.grid()\n",
    "pass"
   ]
  },
  {
   "cell_type": "markdown",
   "metadata": {},
   "source": [
    "# Общая ошибка в каждом из этих случаев"
   ]
  },
  {
   "cell_type": "code",
   "execution_count": 13,
   "metadata": {},
   "outputs": [
    {
     "data": {
      "text/plain": [
       "10903.27748917749"
      ]
     },
     "execution_count": 13,
     "metadata": {},
     "output_type": "execute_result"
    }
   ],
   "source": [
    "err1 = np.array (y - funOne(x, A1, A2))**2\n",
    "np.sum(err1)/m"
   ]
  },
  {
   "cell_type": "code",
   "execution_count": 14,
   "metadata": {},
   "outputs": [
    {
     "data": {
      "text/plain": [
       "6971.830188795667"
      ]
     },
     "execution_count": 14,
     "metadata": {},
     "output_type": "execute_result"
    }
   ],
   "source": [
    "err2 = np.array (y - funTwo(x, B0,B1,B2))**2\n",
    "np.sum(err2)/m"
   ]
  },
  {
   "cell_type": "code",
   "execution_count": 15,
   "metadata": {},
   "outputs": [
    {
     "data": {
      "text/plain": [
       "6971.830194447544"
      ]
     },
     "execution_count": 15,
     "metadata": {},
     "output_type": "execute_result"
    }
   ],
   "source": [
    "err3 = np.array (y - funThree(x, y0, C0,C1,C2))**2\n",
    "np.sum(err3)/m"
   ]
  },
  {
   "cell_type": "markdown",
   "metadata": {},
   "source": [
    "# Вывод\n",
    "1) Логистичекие модели лучше апроксимируют, чем линейная. Это видно на графиках.\n",
    "2) Обе логистические модели одинаково  аппроксимируют  данные."
   ]
  }
 ],
 "metadata": {
  "kernelspec": {
   "display_name": "Python 3",
   "language": "python",
   "name": "python3"
  },
  "language_info": {
   "codemirror_mode": {
    "name": "ipython",
    "version": 3
   },
   "file_extension": ".py",
   "mimetype": "text/x-python",
   "name": "python",
   "nbconvert_exporter": "python",
   "pygments_lexer": "ipython3",
   "version": "3.7.6"
  }
 },
 "nbformat": 4,
 "nbformat_minor": 2
}
